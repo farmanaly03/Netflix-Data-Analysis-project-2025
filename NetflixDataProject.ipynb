{
 "cells": [
  {
   "cell_type": "code",
   "execution_count": 1,
   "id": "e5be7e4c-a804-490d-8e44-4f3c330cd660",
   "metadata": {},
   "outputs": [],
   "source": [
    "import numpy as np\n",
    "import pandas as pd\n",
    "import matplotlib.pyplot as plt\n",
    "import seaborn as sns"
   ]
  },
  {
   "cell_type": "code",
   "execution_count": 2,
   "id": "b53d1c33-c4ed-40fb-b824-fb89b7a99fec",
   "metadata": {},
   "outputs": [],
   "source": [
    "# LOADING & INSPECTING DATA\n",
    "# Load dataset\n",
    "df = pd.read_csv('moviedb.csv', lineterminator='\\n')"
   ]
  },
  {
   "cell_type": "code",
   "execution_count": 3,
   "id": "b96b9fa9-9f64-4f71-ad2f-59c5d9a3f082",
   "metadata": {},
   "outputs": [
    {
     "name": "stdout",
     "output_type": "stream",
     "text": [
      "  Release_Date                    Title  \\\n",
      "0   2021-12-15  Spider-Man: No Way Home   \n",
      "1   2022-03-01               The Batman   \n",
      "2   2022-02-25                  No Exit   \n",
      "3   2021-11-24                  Encanto   \n",
      "4   2021-12-22           The King's Man   \n",
      "\n",
      "                                            Overview  Popularity  Vote_Count  \\\n",
      "0  Peter Parker is unmasked and no longer able to...    5083.954        8940   \n",
      "1  In his second year of fighting crime, Batman u...    3827.658        1151   \n",
      "2  Stranded at a rest stop in the mountains durin...    2618.087         122   \n",
      "3  The tale of an extraordinary family, the Madri...    2402.201        5076   \n",
      "4  As a collection of history's worst tyrants and...    1895.511        1793   \n",
      "\n",
      "   Vote_Average Original_Language                               Genre  \\\n",
      "0           8.3                en  Action, Adventure, Science Fiction   \n",
      "1           8.1                en            Crime, Mystery, Thriller   \n",
      "2           6.3                en                            Thriller   \n",
      "3           7.7                en  Animation, Comedy, Family, Fantasy   \n",
      "4           7.0                en    Action, Adventure, Thriller, War   \n",
      "\n",
      "                                          Poster_Url  \n",
      "0  https://image.tmdb.org/t/p/original/1g0dhYtq4i...  \n",
      "1  https://image.tmdb.org/t/p/original/74xTEgt7R3...  \n",
      "2  https://image.tmdb.org/t/p/original/vDHsLnOWKl...  \n",
      "3  https://image.tmdb.org/t/p/original/4j0PNHkMr5...  \n",
      "4  https://image.tmdb.org/t/p/original/aq4Pwv5Xeu...  \n"
     ]
    }
   ],
   "source": [
    "# Preview first few rows\n",
    "print(df.head())"
   ]
  },
  {
   "cell_type": "code",
   "execution_count": 4,
   "id": "73640fb5-774f-47e0-9186-44e5359c69af",
   "metadata": {},
   "outputs": [
    {
     "name": "stdout",
     "output_type": "stream",
     "text": [
      "<class 'pandas.core.frame.DataFrame'>\n",
      "RangeIndex: 9827 entries, 0 to 9826\n",
      "Data columns (total 9 columns):\n",
      " #   Column             Non-Null Count  Dtype  \n",
      "---  ------             --------------  -----  \n",
      " 0   Release_Date       9827 non-null   object \n",
      " 1   Title              9827 non-null   object \n",
      " 2   Overview           9827 non-null   object \n",
      " 3   Popularity         9827 non-null   float64\n",
      " 4   Vote_Count         9827 non-null   int64  \n",
      " 5   Vote_Average       9827 non-null   float64\n",
      " 6   Original_Language  9827 non-null   object \n",
      " 7   Genre              9827 non-null   object \n",
      " 8   Poster_Url         9827 non-null   object \n",
      "dtypes: float64(2), int64(1), object(6)\n",
      "memory usage: 691.1+ KB\n"
     ]
    }
   ],
   "source": [
    "\n",
    "# Basic info about dataset\n",
    "df.info()"
   ]
  },
  {
   "cell_type": "code",
   "execution_count": 5,
   "id": "fee0e0e6-b217-4119-921a-c52d1312836a",
   "metadata": {},
   "outputs": [
    {
     "name": "stdout",
     "output_type": "stream",
     "text": [
      "0    Action, Adventure, Science Fiction\n",
      "1              Crime, Mystery, Thriller\n",
      "2                              Thriller\n",
      "3    Animation, Comedy, Family, Fantasy\n",
      "4      Action, Adventure, Thriller, War\n",
      "Name: Genre, dtype: object\n"
     ]
    }
   ],
   "source": [
    "# Check unique genres\n",
    "print(df['Genre'].head())"
   ]
  },
  {
   "cell_type": "code",
   "execution_count": 6,
   "id": "4f80e113-3367-40c4-aef7-966fe5c873fc",
   "metadata": {},
   "outputs": [
    {
     "name": "stdout",
     "output_type": "stream",
     "text": [
      "Duplicate rows: 0\n"
     ]
    }
   ],
   "source": [
    "# Check duplicate rows\n",
    "print(\"Duplicate rows:\", df.duplicated().sum())"
   ]
  },
  {
   "cell_type": "code",
   "execution_count": 7,
   "id": "541263f6-309a-4913-8dcd-bfc5d6122b12",
   "metadata": {},
   "outputs": [
    {
     "name": "stdout",
     "output_type": "stream",
     "text": [
      "        Popularity    Vote_Count  Vote_Average\n",
      "count  9827.000000   9827.000000   9827.000000\n",
      "mean     40.326088   1392.805536      6.439534\n",
      "std     108.873998   2611.206907      1.129759\n",
      "min      13.354000      0.000000      0.000000\n",
      "25%      16.128500    146.000000      5.900000\n",
      "50%      21.199000    444.000000      6.500000\n",
      "75%      35.191500   1376.000000      7.100000\n",
      "max    5083.954000  31077.000000     10.000000\n"
     ]
    }
   ],
   "source": [
    "# Summary statistics\n",
    "print(df.describe())"
   ]
  },
  {
   "cell_type": "code",
   "execution_count": 8,
   "id": "fd2f81dc-a278-44f9-bd22-f2b3612b4902",
   "metadata": {},
   "outputs": [],
   "source": [
    "# DATA CLEANING\n",
    "# Convert 'Release_Date' to datetime format\n",
    "df['Release_Date'] = pd.to_datetime(df['Release_Date'])"
   ]
  },
  {
   "cell_type": "code",
   "execution_count": 9,
   "id": "6d43e155-f496-4559-b58d-652d92535136",
   "metadata": {},
   "outputs": [],
   "source": [
    "# Extract only the year\n",
    "df['Release_Date'] = df['Release_Date'].dt.year"
   ]
  },
  {
   "cell_type": "code",
   "execution_count": 10,
   "id": "fd6ce190-d946-4e4c-a477-8ec19735b3ee",
   "metadata": {},
   "outputs": [
    {
     "name": "stdout",
     "output_type": "stream",
     "text": [
      "int32\n",
      "<class 'pandas.core.frame.DataFrame'>\n",
      "RangeIndex: 9827 entries, 0 to 9826\n",
      "Data columns (total 9 columns):\n",
      " #   Column             Non-Null Count  Dtype  \n",
      "---  ------             --------------  -----  \n",
      " 0   Release_Date       9827 non-null   int32  \n",
      " 1   Title              9827 non-null   object \n",
      " 2   Overview           9827 non-null   object \n",
      " 3   Popularity         9827 non-null   float64\n",
      " 4   Vote_Count         9827 non-null   int64  \n",
      " 5   Vote_Average       9827 non-null   float64\n",
      " 6   Original_Language  9827 non-null   object \n",
      " 7   Genre              9827 non-null   object \n",
      " 8   Poster_Url         9827 non-null   object \n",
      "dtypes: float64(2), int32(1), int64(1), object(5)\n",
      "memory usage: 652.7+ KB\n"
     ]
    }
   ],
   "source": [
    "# Confirm changes\n",
    "print(df['Release_Date'].dtypes)\n",
    "df.info()"
   ]
  },
  {
   "cell_type": "code",
   "execution_count": 11,
   "id": "f30e724b-86fd-479d-a26e-53e0dabd085b",
   "metadata": {},
   "outputs": [
    {
     "name": "stdout",
     "output_type": "stream",
     "text": [
      "Remaining columns: Index(['Release_Date', 'Title', 'Popularity', 'Vote_Count', 'Vote_Average',\n",
      "       'Genre'],\n",
      "      dtype='object')\n"
     ]
    }
   ],
   "source": [
    "# Drop unnecessary columns\n",
    "cols_to_drop = ['Overview', 'Original_Language', 'Poster_Url']\n",
    "df.drop(cols_to_drop, axis=1, inplace=True)\n",
    "print(\"Remaining columns:\", df.columns)\n"
   ]
  },
  {
   "cell_type": "code",
   "execution_count": 12,
   "id": "2e6c787d-3991-49aa-b8f3-ede174a356ce",
   "metadata": {},
   "outputs": [],
   "source": [
    "#CATEGORIZING VOTE_AVERAGE COLUMN\n",
    "\n",
    "def catigorize_col(df, col, labels):\n",
    "    \"\"\"\n",
    "    Categorizes a numeric column based on its quartiles.\n",
    "    \"\"\"\n",
    "    edges = [\n",
    "        df[col].describe()['min'],\n",
    "        df[col].describe()['25%'],\n",
    "        df[col].describe()['50%'],\n",
    "        df[col].describe()['75%'],\n",
    "        df[col].describe()['max']\n",
    "    ]\n",
    "    df[col] = pd.cut(df[col], edges, labels=labels, duplicates='drop')\n",
    "    return df"
   ]
  },
  {
   "cell_type": "code",
   "execution_count": 13,
   "id": "6deb55f5-3a8b-491f-9315-78026e7d10e7",
   "metadata": {},
   "outputs": [],
   "source": [
    "# Define labels\n",
    "labels = ['not_popular', 'below_avg', 'average', 'popular']"
   ]
  },
  {
   "cell_type": "code",
   "execution_count": 14,
   "id": "ae3e2f21-5c07-4fb4-9561-70a2b1363a04",
   "metadata": {},
   "outputs": [],
   "source": [
    "# Apply function\n",
    "df = catigorize_col(df, 'Vote_Average', labels)"
   ]
  },
  {
   "cell_type": "code",
   "execution_count": 15,
   "id": "9ecb566f-14df-4900-ae22-e61dbb8e6e5a",
   "metadata": {},
   "outputs": [
    {
     "name": "stdout",
     "output_type": "stream",
     "text": [
      "Vote_Average\n",
      "not_popular    2467\n",
      "popular        2450\n",
      "average        2412\n",
      "below_avg      2398\n",
      "Name: count, dtype: int64\n"
     ]
    }
   ],
   "source": [
    "# Drop missing values after categorization\n",
    "df.dropna(inplace=True)\n",
    "# Verify\n",
    "print(df['Vote_Average'].value_counts())\n"
   ]
  },
  {
   "cell_type": "code",
   "execution_count": 16,
   "id": "fe499c5a-e4f1-4507-a6ff-6e07b45d80c3",
   "metadata": {},
   "outputs": [],
   "source": [
    "# HANDLING GENRE COLUMN\n",
    "# Split multiple genres into list\n",
    "df['Genre'] = df['Genre'].str.split(', ')"
   ]
  },
  {
   "cell_type": "code",
   "execution_count": 17,
   "id": "b4df8ab8-351e-464d-83cc-e435bc4af05b",
   "metadata": {},
   "outputs": [],
   "source": [
    "# Explode lists into separate rows\n",
    "df = df.explode('Genre').reset_index(drop=True)"
   ]
  },
  {
   "cell_type": "code",
   "execution_count": 18,
   "id": "7f3dba50-780d-4e8e-a6c8-e3209b0ec768",
   "metadata": {},
   "outputs": [],
   "source": [
    "# Convert genre to categorical\n",
    "df['Genre'] = df['Genre'].astype('category')"
   ]
  },
  {
   "cell_type": "code",
   "execution_count": 19,
   "id": "00d4dabf-0e04-415e-a09f-62c2836f1ab5",
   "metadata": {},
   "outputs": [
    {
     "name": "stdout",
     "output_type": "stream",
     "text": [
      "<class 'pandas.core.frame.DataFrame'>\n",
      "RangeIndex: 25552 entries, 0 to 25551\n",
      "Data columns (total 6 columns):\n",
      " #   Column        Non-Null Count  Dtype   \n",
      "---  ------        --------------  -----   \n",
      " 0   Release_Date  25552 non-null  int32   \n",
      " 1   Title         25552 non-null  object  \n",
      " 2   Popularity    25552 non-null  float64 \n",
      " 3   Vote_Count    25552 non-null  int64   \n",
      " 4   Vote_Average  25552 non-null  category\n",
      " 5   Genre         25552 non-null  category\n",
      "dtypes: category(2), float64(1), int32(1), int64(1), object(1)\n",
      "memory usage: 749.6+ KB\n",
      "None\n",
      "Genre\n",
      "Drama              3715\n",
      "Comedy             3006\n",
      "Action             2652\n",
      "Thriller           2473\n",
      "Adventure          1829\n",
      "Romance            1461\n",
      "Horror             1457\n",
      "Animation          1426\n",
      "Family             1405\n",
      "Fantasy            1295\n",
      "Science Fiction    1255\n",
      "Crime              1235\n",
      "Mystery             765\n",
      "History             426\n",
      "War                 307\n",
      "Music               291\n",
      "TV Movie            214\n",
      "Documentary         203\n",
      "Western             137\n",
      "Name: count, dtype: int64\n"
     ]
    }
   ],
   "source": [
    "# Confirm changes\n",
    "print(df.info())\n",
    "print(df['Genre'].value_counts())"
   ]
  },
  {
   "cell_type": "code",
   "execution_count": 20,
   "id": "ebd88184-adf8-4784-825b-a6049ae44ce3",
   "metadata": {},
   "outputs": [
    {
     "name": "stdout",
     "output_type": "stream",
     "text": [
      "count     25552\n",
      "unique       19\n",
      "top       Drama\n",
      "freq       3715\n",
      "Name: Genre, dtype: object\n"
     ]
    },
    {
     "data": {
      "image/png": "[encoded data removed]",
      "text/plain": [
       "<Figure size 511.111x500 with 1 Axes>"
      ]
     },
     "metadata": {},
     "output_type": "display_data"
    }
   ],
   "source": [
    "#DATA VISUALIZATION & INSIGHTS\n",
    "\n",
    "sns.set_style('whitegrid')\n",
    "\n",
    "# Q1: Most frequent genre\n",
    "print(df['Genre'].describe())\n",
    "sns.catplot(y='Genre', data=df, kind='count',\n",
    "            order=df['Genre'].value_counts().index,\n",
    "            color='#4287f5')\n",
    "plt.title('Genre Distribution')\n",
    "plt.show()"
   ]
  },
  {
   "cell_type": "code",
   "execution_count": 21,
   "id": "cade6bec-e4eb-4b81-969d-4eacb7c15224",
   "metadata": {},
   "outputs": [
    {
     "data": {
      "image/png": "[encoded data removed]",
      "text/plain": [
       "<Figure size 511.111x500 with 1 Axes>"
      ]
     },
     "metadata": {},
     "output_type": "display_data"
    }
   ],
   "source": [
    "# Q2: Distribution of vote categories\n",
    "sns.catplot(y='Vote_Average', data=df, kind='count',\n",
    "            order=df['Vote_Average'].value_counts().index,\n",
    "            color='#4287f5')\n",
    "plt.title('Vote Category Distribution')\n",
    "plt.show()"
   ]
  },
  {
   "cell_type": "code",
   "execution_count": 22,
   "id": "c771744e-760d-4d23-bd92-31b76d59934d",
   "metadata": {},
   "outputs": [
    {
     "name": "stdout",
     "output_type": "stream",
     "text": [
      "Most popular movie:\n",
      "    Release_Date                    Title  Popularity  Vote_Count Vote_Average  \\\n",
      "0          2021  Spider-Man: No Way Home    5083.954        8940      popular   \n",
      "1          2021  Spider-Man: No Way Home    5083.954        8940      popular   \n",
      "2          2021  Spider-Man: No Way Home    5083.954        8940      popular   \n",
      "\n",
      "             Genre  \n",
      "0           Action  \n",
      "1        Adventure  \n",
      "2  Science Fiction  \n"
     ]
    }
   ],
   "source": [
    "# Q3: Movie with highest popularity\n",
    "print(\"Most popular movie:\\n\", df[df['Popularity'] == df['Popularity'].max()])"
   ]
  },
  {
   "cell_type": "code",
   "execution_count": 23,
   "id": "0cc4d249-a89c-43d0-a88f-55e71260106f",
   "metadata": {},
   "outputs": [
    {
     "name": "stdout",
     "output_type": "stream",
     "text": [
      "Least popular movie:\n",
      "        Release_Date                                 Title  Popularity  \\\n",
      "25546          2021  The United States vs. Billie Holiday      13.354   \n",
      "25547          2021  The United States vs. Billie Holiday      13.354   \n",
      "25548          2021  The United States vs. Billie Holiday      13.354   \n",
      "25549          1984                               Threads      13.354   \n",
      "25550          1984                               Threads      13.354   \n",
      "25551          1984                               Threads      13.354   \n",
      "\n",
      "       Vote_Count Vote_Average            Genre  \n",
      "25546         152      average            Music  \n",
      "25547         152      average            Drama  \n",
      "25548         152      average          History  \n",
      "25549         186      popular              War  \n",
      "25550         186      popular            Drama  \n",
      "25551         186      popular  Science Fiction  \n"
     ]
    }
   ],
   "source": [
    "# Q4: Movie with lowest popularity\n",
    "print(\"Least popular movie:\\n\", df[df['Popularity'] == df['Popularity'].min()])"
   ]
  },
  {
   "cell_type": "code",
   "execution_count": 24,
   "id": "3b9314c8-df90-4f48-ad54-96cfd941c523",
   "metadata": {},
   "outputs": [
    {
     "data": {
      "image/png": "[encoded data removed]",
      "text/plain": [
       "<Figure size 640x480 with 1 Axes>"
      ]
     },
     "metadata": {},
     "output_type": "display_data"
    }
   ],
   "source": [
    "# Q5: Year with most movies\n",
    "df['Release_Date'].hist()\n",
    "plt.title('Movies Released per Year')\n",
    "plt.xlabel('Year')\n",
    "plt.ylabel('Count')\n",
    "plt.show()"
   ]
  },
  {
   "cell_type": "code",
   "execution_count": 25,
   "id": "f59337a1-778a-4192-990b-84ad97f74c44",
   "metadata": {},
   "outputs": [
    {
     "name": "stdout",
     "output_type": "stream",
     "text": [
      "\n",
      "✅ Q1: Drama is the most frequent genre (~14%)\n",
      "✅ Q2: 25.5% of movies are 'popular'; Drama dominates\n",
      "✅ Q3: Highest popularity: Spider-Man: No Way Home (Action, Adventure, Sci-Fi)\n",
      "✅ Q4: Lowest popularity: The United States vs Billie Holiday / Threads\n",
      "✅ Q5: Year 2020 has the highest number of films\n",
      "\n"
     ]
    }
   ],
   "source": [
    "# CONCLUSION\n",
    "\n",
    "print(\"\"\"\n",
    "✅ Q1: Drama is the most frequent genre (~14%)\n",
    "✅ Q2: 25.5% of movies are 'popular'; Drama dominates\n",
    "✅ Q3: Highest popularity: Spider-Man: No Way Home (Action, Adventure, Sci-Fi)\n",
    "✅ Q4: Lowest popularity: The United States vs Billie Holiday / Threads\n",
    "✅ Q5: Year 2020 has the highest number of films\n",
    "\"\"\")\n"
   ]
  },
  {
   "cell_type": "code",
   "execution_count": null,
   "id": "7f0a8b83-57c3-4c2f-91b1-0def627dff4f",
   "metadata": {},
   "outputs": [],
   "source": []
  }
 ],
 "metadata": {
  "kernelspec": {
   "display_name": "Python 3 (ipykernel)",
   "language": "python",
   "name": "python3"
  },
  "language_info": {
   "codemirror_mode": {
    "name": "ipython",
    "version": 3
   },
   "file_extension": ".py",
   "mimetype": "text/x-python",
   "name": "python",
   "nbconvert_exporter": "python",
   "pygments_lexer": "ipython3",
   "version": "3.13.5"
  }
 },
 "nbformat": 4,
 "nbformat_minor": 5
}
